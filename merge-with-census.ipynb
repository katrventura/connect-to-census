{
 "cells": [
  {
   "cell_type": "markdown",
   "metadata": {},
   "source": [
    "# Notebook Title"
   ]
  },
  {
   "cell_type": "markdown",
   "metadata": {},
   "source": [
    "## Setup Python and R environment\n",
    "you can ignore this section"
   ]
  },
  {
   "cell_type": "code",
   "execution_count": 1,
   "metadata": {},
   "outputs": [
    {
     "name": "stderr",
     "output_type": "stream",
     "text": [
      "During startup - Warning messages:\n",
      "1: Setting LC_COLLATE failed, using \"C\" \n",
      "2: Setting LC_TIME failed, using \"C\" \n",
      "3: Setting LC_MESSAGES failed, using \"C\" \n",
      "4: Setting LC_MONETARY failed, using \"C\" \n"
     ]
    }
   ],
   "source": [
    "%load_ext rpy2.ipython\n",
    "%load_ext autoreload\n",
    "%autoreload 2\n",
    "\n",
    "%matplotlib inline  \n",
    "from matplotlib import rcParams\n",
    "rcParams['figure.figsize'] = (16, 100)\n",
    "\n",
    "import warnings\n",
    "from rpy2.rinterface import RRuntimeWarning\n",
    "warnings.filterwarnings(\"ignore\") # Ignore all warnings\n",
    "# warnings.filterwarnings(\"ignore\", category=RRuntimeWarning) # Show some warnings\n",
    "\n",
    "import pandas as pd\n",
    "import numpy as np\n",
    "import matplotlib.pyplot as plt\n",
    "from IPython.display import display, HTML"
   ]
  },
  {
   "cell_type": "code",
   "execution_count": 2,
   "metadata": {},
   "outputs": [
    {
     "data": {
      "application/javascript": "// Disable auto-scrolling\nIPython.OutputArea.prototype._should_scroll = function(lines) {\n    return false;\n}\n",
      "text/plain": [
       "<IPython.core.display.Javascript object>"
      ]
     },
     "metadata": {},
     "output_type": "display_data"
    }
   ],
   "source": [
    "%%javascript\n",
    "// Disable auto-scrolling\n",
    "IPython.OutputArea.prototype._should_scroll = function(lines) {\n",
    "    return false;\n",
    "}"
   ]
  },
  {
   "cell_type": "code",
   "execution_count": 3,
   "metadata": {},
   "outputs": [
    {
     "name": "stdout",
     "output_type": "stream",
     "text": [
      "── Attaching core tidyverse packages ──────────────────────── tidyverse 2.0.0 ──\n",
      "✔ dplyr     1.1.4     ✔ readr     2.1.5\n",
      "✔ forcats   1.0.0     ✔ stringr   1.5.1\n",
      "✔ ggplot2   3.4.4     ✔ tibble    3.2.1\n",
      "✔ lubridate 1.9.3     ✔ tidyr     1.3.0\n",
      "✔ purrr     1.0.2     \n",
      "── Conflicts ────────────────────────────────────────── tidyverse_conflicts() ──\n",
      "✖ dplyr::filter() masks stats::filter()\n",
      "✖ dplyr::lag()    masks stats::lag()\n",
      "ℹ Use the conflicted package (<http://conflicted.r-lib.org/>) to force all conflicts to become errors\n"
     ]
    },
    {
     "data": {
      "text/plain": [
       "Loading required package: tidyverse\n"
      ]
     },
     "metadata": {},
     "output_type": "display_data"
    }
   ],
   "source": [
    "%%R\n",
    "\n",
    "# My commonly used R imports\n",
    "\n",
    "require('tidyverse')"
   ]
  },
  {
   "cell_type": "markdown",
   "metadata": {},
   "source": [
    "## Load & Clean Data\n",
    "\n",
    "👉 Load the data along with the census connectors below (the output of the `connect-to-census.ipynb` notebook) and do any cleanup you'd like to do."
   ]
  },
  {
   "cell_type": "code",
   "execution_count": 4,
   "metadata": {},
   "outputs": [
    {
     "data": {
      "text/html": [
       "<div>\n",
       "<style scoped>\n",
       "    .dataframe tbody tr th:only-of-type {\n",
       "        vertical-align: middle;\n",
       "    }\n",
       "\n",
       "    .dataframe tbody tr th {\n",
       "        vertical-align: top;\n",
       "    }\n",
       "\n",
       "    .dataframe thead th {\n",
       "        text-align: right;\n",
       "    }\n",
       "</style>\n",
       "<table border=\"1\" class=\"dataframe\">\n",
       "  <thead>\n",
       "    <tr style=\"text-align: right;\">\n",
       "      <th></th>\n",
       "      <th>GHGRP ID</th>\n",
       "      <th>Landfill ID</th>\n",
       "      <th>Landfill Name</th>\n",
       "      <th>State</th>\n",
       "      <th>Physical Address</th>\n",
       "      <th>City</th>\n",
       "      <th>County</th>\n",
       "      <th>Zip Code</th>\n",
       "      <th>lat</th>\n",
       "      <th>long</th>\n",
       "      <th>...</th>\n",
       "      <th>Actual MW Generation</th>\n",
       "      <th>Rated MW Capacity</th>\n",
       "      <th>LFG Flow to Project (mmscfd)</th>\n",
       "      <th>Current Year Emission Reductions (MMTCO2e/yr) - Direct</th>\n",
       "      <th>Current Year Emission Reductions (MMTCO2e/yr) - Avoided</th>\n",
       "      <th>GEOID</th>\n",
       "      <th>STATE</th>\n",
       "      <th>COUNTY</th>\n",
       "      <th>TRACT</th>\n",
       "      <th>BLOCK</th>\n",
       "    </tr>\n",
       "  </thead>\n",
       "  <tbody>\n",
       "    <tr>\n",
       "      <th>0</th>\n",
       "      <td>1007291.0</td>\n",
       "      <td>734</td>\n",
       "      <td>Alpha Ridge SLF</td>\n",
       "      <td>MD</td>\n",
       "      <td>2350 Marriottsville Road</td>\n",
       "      <td>Marriottsville</td>\n",
       "      <td>Howard</td>\n",
       "      <td>21104.0</td>\n",
       "      <td>39.305776</td>\n",
       "      <td>-76.898803</td>\n",
       "      <td>...</td>\n",
       "      <td>0.58</td>\n",
       "      <td>1.059</td>\n",
       "      <td>0.28</td>\n",
       "      <td>0.0294</td>\n",
       "      <td>0.0028</td>\n",
       "      <td>240276030013008</td>\n",
       "      <td>24</td>\n",
       "      <td>27</td>\n",
       "      <td>603001</td>\n",
       "      <td>3008</td>\n",
       "    </tr>\n",
       "    <tr>\n",
       "      <th>1</th>\n",
       "      <td>NaN</td>\n",
       "      <td>735</td>\n",
       "      <td>Annapolis SLF</td>\n",
       "      <td>MD</td>\n",
       "      <td>Defense Highway</td>\n",
       "      <td>Annapolis</td>\n",
       "      <td>Anne Arundel</td>\n",
       "      <td>21401.0</td>\n",
       "      <td>38.992000</td>\n",
       "      <td>-76.573000</td>\n",
       "      <td>...</td>\n",
       "      <td>NaN</td>\n",
       "      <td>NaN</td>\n",
       "      <td>NaN</td>\n",
       "      <td>NaN</td>\n",
       "      <td>NaN</td>\n",
       "      <td>240037516002006</td>\n",
       "      <td>24</td>\n",
       "      <td>3</td>\n",
       "      <td>751600</td>\n",
       "      <td>2006</td>\n",
       "    </tr>\n",
       "    <tr>\n",
       "      <th>2</th>\n",
       "      <td>NaN</td>\n",
       "      <td>736</td>\n",
       "      <td>Appeal SLF</td>\n",
       "      <td>MD</td>\n",
       "      <td>NaN</td>\n",
       "      <td>Lusby</td>\n",
       "      <td>Calvert</td>\n",
       "      <td>20657.0</td>\n",
       "      <td>38.381112</td>\n",
       "      <td>-76.438334</td>\n",
       "      <td>...</td>\n",
       "      <td>NaN</td>\n",
       "      <td>NaN</td>\n",
       "      <td>NaN</td>\n",
       "      <td>NaN</td>\n",
       "      <td>NaN</td>\n",
       "      <td>240098610033000</td>\n",
       "      <td>24</td>\n",
       "      <td>9</td>\n",
       "      <td>861003</td>\n",
       "      <td>3000</td>\n",
       "    </tr>\n",
       "    <tr>\n",
       "      <th>3</th>\n",
       "      <td>1000331.0</td>\n",
       "      <td>10120</td>\n",
       "      <td>Beulah Municipal Landfill</td>\n",
       "      <td>MD</td>\n",
       "      <td>6815 East New Market Ellwood Road</td>\n",
       "      <td>Hurlock</td>\n",
       "      <td>Dorchester</td>\n",
       "      <td>21643.0</td>\n",
       "      <td>38.673500</td>\n",
       "      <td>-75.899400</td>\n",
       "      <td>...</td>\n",
       "      <td>NaN</td>\n",
       "      <td>NaN</td>\n",
       "      <td>NaN</td>\n",
       "      <td>NaN</td>\n",
       "      <td>NaN</td>\n",
       "      <td>240199702002028</td>\n",
       "      <td>24</td>\n",
       "      <td>19</td>\n",
       "      <td>970200</td>\n",
       "      <td>2028</td>\n",
       "    </tr>\n",
       "    <tr>\n",
       "      <th>4</th>\n",
       "      <td>NaN</td>\n",
       "      <td>740</td>\n",
       "      <td>Bowley's Lane LF</td>\n",
       "      <td>MD</td>\n",
       "      <td>Bowley's Lane</td>\n",
       "      <td>Baltimore</td>\n",
       "      <td>Baltimore city</td>\n",
       "      <td>21206.0</td>\n",
       "      <td>39.313800</td>\n",
       "      <td>-76.544400</td>\n",
       "      <td>...</td>\n",
       "      <td>NaN</td>\n",
       "      <td>NaN</td>\n",
       "      <td>NaN</td>\n",
       "      <td>NaN</td>\n",
       "      <td>NaN</td>\n",
       "      <td>245102604022006</td>\n",
       "      <td>24</td>\n",
       "      <td>510</td>\n",
       "      <td>260402</td>\n",
       "      <td>2006</td>\n",
       "    </tr>\n",
       "  </tbody>\n",
       "</table>\n",
       "<p>5 rows × 38 columns</p>\n",
       "</div>"
      ],
      "text/plain": [
       "    GHGRP ID  Landfill ID              Landfill Name State  \\\n",
       "0  1007291.0          734            Alpha Ridge SLF    MD   \n",
       "1        NaN          735              Annapolis SLF    MD   \n",
       "2        NaN          736                 Appeal SLF    MD   \n",
       "3  1000331.0        10120  Beulah Municipal Landfill    MD   \n",
       "4        NaN          740           Bowley's Lane LF    MD   \n",
       "\n",
       "                    Physical Address            City          County  \\\n",
       "0           2350 Marriottsville Road  Marriottsville          Howard   \n",
       "1                    Defense Highway       Annapolis    Anne Arundel   \n",
       "2                                NaN           Lusby         Calvert   \n",
       "3  6815 East New Market Ellwood Road         Hurlock      Dorchester   \n",
       "4                      Bowley's Lane       Baltimore  Baltimore city   \n",
       "\n",
       "   Zip Code        lat       long  ... Actual MW Generation Rated MW Capacity  \\\n",
       "0   21104.0  39.305776 -76.898803  ...                 0.58             1.059   \n",
       "1   21401.0  38.992000 -76.573000  ...                  NaN               NaN   \n",
       "2   20657.0  38.381112 -76.438334  ...                  NaN               NaN   \n",
       "3   21643.0  38.673500 -75.899400  ...                  NaN               NaN   \n",
       "4   21206.0  39.313800 -76.544400  ...                  NaN               NaN   \n",
       "\n",
       "   LFG Flow to Project (mmscfd)  \\\n",
       "0                          0.28   \n",
       "1                           NaN   \n",
       "2                           NaN   \n",
       "3                           NaN   \n",
       "4                           NaN   \n",
       "\n",
       "   Current Year Emission Reductions (MMTCO2e/yr) - Direct  \\\n",
       "0                                             0.0294        \n",
       "1                                                NaN        \n",
       "2                                                NaN        \n",
       "3                                                NaN        \n",
       "4                                                NaN        \n",
       "\n",
       "  Current Year Emission Reductions (MMTCO2e/yr) - Avoided            GEOID  \\\n",
       "0                                             0.0028       240276030013008   \n",
       "1                                                NaN       240037516002006   \n",
       "2                                                NaN       240098610033000   \n",
       "3                                                NaN       240199702002028   \n",
       "4                                                NaN       245102604022006   \n",
       "\n",
       "   STATE COUNTY   TRACT  BLOCK  \n",
       "0     24     27  603001   3008  \n",
       "1     24      3  751600   2006  \n",
       "2     24      9  861003   3000  \n",
       "3     24     19  970200   2028  \n",
       "4     24    510  260402   2006  \n",
       "\n",
       "[5 rows x 38 columns]"
      ]
     },
     "execution_count": 4,
     "metadata": {},
     "output_type": "execute_result"
    }
   ],
   "source": [
    "df = pd.read_csv('baltimore-lmop-with-geocodes.csv')\n",
    "df.head()"
   ]
  },
  {
   "cell_type": "code",
   "execution_count": null,
   "metadata": {},
   "outputs": [],
   "source": []
  },
  {
   "cell_type": "markdown",
   "metadata": {},
   "source": [
    "## 👉 Grab Census Data"
   ]
  },
  {
   "cell_type": "markdown",
   "metadata": {},
   "source": [
    "1. loading the Census API key"
   ]
  },
  {
   "cell_type": "code",
   "execution_count": 5,
   "metadata": {},
   "outputs": [
    {
     "data": {
      "text/plain": [
       "False"
      ]
     },
     "execution_count": 5,
     "metadata": {},
     "output_type": "execute_result"
    }
   ],
   "source": [
    "import dotenv\n",
    "\n",
    "# Load the environment variables\n",
    "# (loads CENSUS_API_KEY from .env)\n",
    "dotenv.load_dotenv()\n"
   ]
  },
  {
   "cell_type": "code",
   "execution_count": 6,
   "metadata": {},
   "outputs": [
    {
     "data": {
      "text/plain": [
       "Loading required package: tidycensus\n",
       "To install your API key for use in future sessions, run this function with `install = TRUE`.\n",
       "To install your API key for use in future sessions, run this function with `install = TRUE`.\n"
      ]
     },
     "metadata": {},
     "output_type": "display_data"
    }
   ],
   "source": [
    "%%R \n",
    "\n",
    "require('tidycensus')\n",
    "\n",
    "# because it an environment variable, we don't have to \n",
    "# explicitly pass this string to R, it is readable here\n",
    "# in this R cell.\n",
    "census_api_key(Sys.getenv(\"CENSUS_API_KEY\"))\n",
    "\n",
    "census_api_key(\"841d451c54bb61bb1407f462e7f89747f36f0b19\")"
   ]
  },
  {
   "cell_type": "markdown",
   "metadata": {},
   "source": [
    "2. Decide which Census variables you want\n",
    "\n",
    "    Use <https://censusreporter.org/> to figure out which tables you want. (if censusreporter is down, check out the code in the cell below)\n",
    "\n",
    "    -   Scroll to the bottom of the page to see the tables.\n",
    "    -   If you already know the table ID, stick that in the \"Explore\" section to learn more about that table.\n",
    "\n",
    "    By default this code loads (B01003_001) which we found in censusreporter here: https://censusreporter.org/tables/B01003/\n",
    "\n",
    "    - find some other variables that you're also interested in\n",
    "    - don't forget to pick a geography like \"tract\", \"county\" or \"block group\". here is the list of [all geographies](https://walker-data.com/tidycensus/articles/basic-usage.html#geography-in-tidycensus\n",
    "    ).\n"
   ]
  },
  {
   "cell_type": "code",
   "execution_count": 7,
   "metadata": {},
   "outputs": [
    {
     "name": "stdout",
     "output_type": "stream",
     "text": [
      "# A tibble: 46 × 3\n",
      "   name         label                                                    concept\n",
      "   <chr>        <chr>                                                    <chr>  \n",
      " 1 B06011PR_001 Estimate!!Median income in the past 12 months --!!Total: MEDIAN…\n",
      " 2 B06011PR_002 Estimate!!Median income in the past 12 months --!!Total… MEDIAN…\n",
      " 3 B06011PR_003 Estimate!!Median income in the past 12 months --!!Total… MEDIAN…\n",
      " 4 B06011PR_004 Estimate!!Median income in the past 12 months --!!Total… MEDIAN…\n",
      " 5 B06011PR_005 Estimate!!Median income in the past 12 months --!!Total… MEDIAN…\n",
      " 6 B06011_001   Estimate!!Median income in the past 12 months --!!Total: MEDIAN…\n",
      " 7 B06011_002   Estimate!!Median income in the past 12 months --!!Total… MEDIAN…\n",
      " 8 B06011_003   Estimate!!Median income in the past 12 months --!!Total… MEDIAN…\n",
      " 9 B06011_004   Estimate!!Median income in the past 12 months --!!Total… MEDIAN…\n",
      "10 B06011_005   Estimate!!Median income in the past 12 months --!!Total… MEDIAN…\n",
      "11 B07011PR_001 Estimate!!Median income in the past 12 months --!!Total: MEDIAN…\n",
      "12 B07011PR_002 Estimate!!Median income in the past 12 months --!!Total… MEDIAN…\n",
      "13 B07011PR_003 Estimate!!Median income in the past 12 months --!!Total… MEDIAN…\n",
      "14 B07011PR_004 Estimate!!Median income in the past 12 months --!!Total… MEDIAN…\n",
      "15 B07011PR_005 Estimate!!Median income in the past 12 months --!!Total… MEDIAN…\n",
      "16 B07011PR_006 Estimate!!Median income in the past 12 months --!!Total… MEDIAN…\n",
      "17 B07011_001   Estimate!!Median income in the past 12 months --!!Total: MEDIAN…\n",
      "18 B07011_002   Estimate!!Median income in the past 12 months --!!Total… MEDIAN…\n",
      "19 B07011_003   Estimate!!Median income in the past 12 months --!!Total… MEDIAN…\n",
      "20 B07011_004   Estimate!!Median income in the past 12 months --!!Total… MEDIAN…\n",
      "# ℹ 26 more rows\n",
      "# ℹ Use `print(n = ...)` to see more rows\n"
     ]
    }
   ],
   "source": [
    "%%R \n",
    "\n",
    "# Finding the Census Varaibles for the ACS 5 year survey\n",
    "# Generall you'd do this in CensusReporter, but since it's down sometimes, here it is using tidycensus's load_variables function\n",
    "\n",
    "# get every single variable in the ACS5\n",
    "all_census_vars <- load_variables(2021, \"acs5\", cache = TRUE) \n",
    "\n",
    "filtered_census_vars <- all_census_vars %>% \n",
    "    filter(grepl(\"median income\", label, ignore.case = TRUE))   # filter to those containing \"median income\"\n",
    "    \n",
    "# write to CSV so we can view it in python\n",
    "filtered_census_vars %>% \n",
    "    write_csv(\"filtered_census_vars.csv\")\n",
    "\n",
    "# show the first few rows\n",
    "filtered_census_vars %>%\n",
    "    select(-geography) %>% # remove the geography column\n",
    "    print(n = 20) # print the first 20 rows"
   ]
  },
  {
   "cell_type": "code",
   "execution_count": 8,
   "metadata": {},
   "outputs": [
    {
     "name": "stdout",
     "output_type": "stream",
     "text": [
      "  |======================================================================| 100%\n",
      "Simple feature collection with 4218 features and 5 fields (with 30 geometries empty)\n",
      "Geometry type: MULTIPOLYGON\n",
      "Dimension:     XY\n",
      "Bounding box:  xmin: -79.48765 ymin: 37.91172 xmax: -75.04894 ymax: 39.72304\n",
      "Geodetic CRS:  NAD83\n",
      "First 10 features:\n",
      "         GEOID                                              NAME   variable\n",
      "1  24031700310 Census Tract 7003.10, Montgomery County, Maryland B01002_001\n",
      "2  24031700310 Census Tract 7003.10, Montgomery County, Maryland B01003_001\n",
      "3  24031700310 Census Tract 7003.10, Montgomery County, Maryland B19013_001\n",
      "4  24047950000     Census Tract 9500, Worcester County, Maryland B01002_001\n",
      "5  24047950000     Census Tract 9500, Worcester County, Maryland B01003_001\n",
      "6  24047950000     Census Tract 9500, Worcester County, Maryland B19013_001\n",
      "7  24005408601  Census Tract 4086.01, Baltimore County, Maryland B01002_001\n",
      "8  24005408601  Census Tract 4086.01, Baltimore County, Maryland B01003_001\n",
      "9  24005408601  Census Tract 4086.01, Baltimore County, Maryland B19013_001\n",
      "10 24005490703  Census Tract 4907.03, Baltimore County, Maryland B01002_001\n",
      "   estimate     moe                       geometry\n",
      "1      38.1     2.6 MULTIPOLYGON (((-77.3024 39...\n",
      "2    6677.0   496.0 MULTIPOLYGON (((-77.3024 39...\n",
      "3   80682.0  8042.0 MULTIPOLYGON (((-77.3024 39...\n",
      "4      48.0    11.2 MULTIPOLYGON (((-75.09954 3...\n",
      "5    1702.0   347.0 MULTIPOLYGON (((-75.09954 3...\n",
      "6   48068.0 16129.0 MULTIPOLYGON (((-75.09954 3...\n",
      "7      42.4     2.6 MULTIPOLYGON (((-76.62637 3...\n",
      "8    4102.0   195.0 MULTIPOLYGON (((-76.62637 3...\n",
      "9  107794.0 15753.0 MULTIPOLYGON (((-76.62637 3...\n",
      "10     41.6     3.2 MULTIPOLYGON (((-76.62423 3...\n"
     ]
    },
    {
     "data": {
      "text/plain": [
       "Getting data from the 2015-2019 5-year ACS\n",
       "Downloading feature geometry from the Census website.  To cache shapefiles for use in future sessions, set `options(tigris_use_cache = TRUE)`.\n",
       "Using FIPS code '24' for state 'MD'\n"
      ]
     },
     "metadata": {},
     "output_type": "display_data"
    }
   ],
   "source": [
    "%%R \n",
    "# the variable B01003_001E was selectd from the census table \n",
    "# for population, which we found in censusreporter here:\n",
    "# https://censusreporter.org/tables/B01003/\n",
    "\n",
    "# in the table below, pick the geography, the variables, and the survey you want to pull from\n",
    "# see the possible values here https://walker-data.com/tidycensus/articles/basic-usage.html\n",
    "\n",
    "# Get variable from ACS\n",
    "md_census_data <- get_acs(geography = \"tract\", \n",
    "                      state='MD',\n",
    "                      #county = c(\"New York\", \"Kings\", \"Queens\", \"Bronx\", \"Richmond\"),\n",
    "                      variables = c(\n",
    "                            pop=\"B01003_001E\",\n",
    "                            median_age=\"B01002_001E\",\n",
    "                            median_inc=\"B19013_001E\"\n",
    "                      ), \n",
    "                      year = 2019,\n",
    "                      survey=\"acs5\",\n",
    "                      geometry=T)\n",
    "\n",
    "md_census_data"
   ]
  },
  {
   "cell_type": "code",
   "execution_count": 9,
   "metadata": {},
   "outputs": [],
   "source": [
    "%%R\n",
    "# put census data into pd dataframe\n",
    "md_census_df <- as.data.frame(md_census_data)\n"
   ]
  },
  {
   "cell_type": "code",
   "execution_count": 10,
   "metadata": {},
   "outputs": [],
   "source": [
    "%%R\n",
    "# md census data to csv\n",
    "write_csv(md_census_df, \"md_census_data.csv\")"
   ]
  },
  {
   "cell_type": "markdown",
   "metadata": {},
   "source": [
    "## 👉 Merge it with your data\n",
    "\n",
    "hint...`tidycensus` provides you data in long format you may need to pivot the census data from long to wide format before merging it with your data"
   ]
  },
  {
   "cell_type": "code",
   "execution_count": 14,
   "metadata": {},
   "outputs": [],
   "source": [
    "%%R -i df \n",
    "# merge data md_census_df with df using left join\n",
    "merged_data <- df %>% \n",
    "    left_join(md_census_df, by = c(\"GEOID\" = \"GEOID\"))\n",
    "\n",
    "merged_data %>% head()\n",
    "\n",
    "# write to csv\n",
    "merged_data %>% write_csv(\"merged_data_dhrumil.csv\")"
   ]
  },
  {
   "cell_type": "code",
   "execution_count": 24,
   "metadata": {},
   "outputs": [
    {
     "ename": "TypeError",
     "evalue": "'NULLType' object is not iterable",
     "output_type": "error",
     "traceback": [
      "\u001b[0;31m---------------------------------------------------------------------------\u001b[0m",
      "\u001b[0;31mTypeError\u001b[0m                                 Traceback (most recent call last)",
      "\u001b[1;32m/Users/katrinaventura/Documents/Columbia/05-algorithms/connect-to-census/merge-with-census.ipynb Cell 20\u001b[0m line \u001b[0;36m1\n\u001b[0;32m----> <a href='vscode-notebook-cell:/Users/katrinaventura/Documents/Columbia/05-algorithms/connect-to-census/merge-with-census.ipynb#X40sZmlsZQ%3D%3D?line=0'>1</a>\u001b[0m get_ipython()\u001b[39m.\u001b[39;49mrun_cell_magic(\u001b[39m'\u001b[39;49m\u001b[39mR\u001b[39;49m\u001b[39m'\u001b[39;49m, \u001b[39m'\u001b[39;49m\u001b[39m-o merged_data_without_geoms\u001b[39;49m\u001b[39m'\u001b[39;49m, \u001b[39m'\u001b[39;49m\u001b[39m\\n\u001b[39;49;00m\u001b[39mlibrary(sf)\u001b[39;49m\u001b[39m\\n\u001b[39;49;00m\u001b[39mmerged_data_without_geoms <- merged_data \u001b[39;49m\u001b[39m%\u001b[39;49m\u001b[39m>\u001b[39;49m\u001b[39m%\u001b[39;49m\u001b[39m \u001b[39;49m\u001b[39m\\n\u001b[39;49;00m\u001b[39m    st_drop_geometry()\u001b[39;49m\u001b[39m\\n\u001b[39;49;00m\u001b[39m'\u001b[39;49m)\n",
      "File \u001b[0;32m~/.pyenv/versions/3.11.6/lib/python3.11/site-packages/IPython/core/interactiveshell.py:2515\u001b[0m, in \u001b[0;36mInteractiveShell.run_cell_magic\u001b[0;34m(self, magic_name, line, cell)\u001b[0m\n\u001b[1;32m   2513\u001b[0m \u001b[39mwith\u001b[39;00m \u001b[39mself\u001b[39m\u001b[39m.\u001b[39mbuiltin_trap:\n\u001b[1;32m   2514\u001b[0m     args \u001b[39m=\u001b[39m (magic_arg_s, cell)\n\u001b[0;32m-> 2515\u001b[0m     result \u001b[39m=\u001b[39m fn(\u001b[39m*\u001b[39;49margs, \u001b[39m*\u001b[39;49m\u001b[39m*\u001b[39;49mkwargs)\n\u001b[1;32m   2517\u001b[0m \u001b[39m# The code below prevents the output from being displayed\u001b[39;00m\n\u001b[1;32m   2518\u001b[0m \u001b[39m# when using magics with decorator @output_can_be_silenced\u001b[39;00m\n\u001b[1;32m   2519\u001b[0m \u001b[39m# when the last Python token in the expression is a ';'.\u001b[39;00m\n\u001b[1;32m   2520\u001b[0m \u001b[39mif\u001b[39;00m \u001b[39mgetattr\u001b[39m(fn, magic\u001b[39m.\u001b[39mMAGIC_OUTPUT_CAN_BE_SILENCED, \u001b[39mFalse\u001b[39;00m):\n",
      "File \u001b[0;32m~/.pyenv/versions/3.11.6/lib/python3.11/site-packages/rpy2/ipython/rmagic.py:1011\u001b[0m, in \u001b[0;36mRMagics.R\u001b[0;34m(self, line, cell, local_ns)\u001b[0m\n\u001b[1;32m   1009\u001b[0m     \u001b[39mwith\u001b[39;00m localconverter(converter) \u001b[39mas\u001b[39;00m cv:\n\u001b[1;32m   1010\u001b[0m         \u001b[39mfor\u001b[39;00m output \u001b[39min\u001b[39;00m \u001b[39m'\u001b[39m\u001b[39m,\u001b[39m\u001b[39m'\u001b[39m\u001b[39m.\u001b[39mjoin(args\u001b[39m.\u001b[39moutput)\u001b[39m.\u001b[39msplit(\u001b[39m'\u001b[39m\u001b[39m,\u001b[39m\u001b[39m'\u001b[39m):\n\u001b[0;32m-> 1011\u001b[0m             output_ipy \u001b[39m=\u001b[39m ro\u001b[39m.\u001b[39;49mglobalenv\u001b[39m.\u001b[39;49mfind(output)\n\u001b[1;32m   1012\u001b[0m             \u001b[39mself\u001b[39m\u001b[39m.\u001b[39mshell\u001b[39m.\u001b[39mpush({output: output_ipy})\n\u001b[1;32m   1014\u001b[0m \u001b[39m# this will keep a reference to the display_data\u001b[39;00m\n\u001b[1;32m   1015\u001b[0m \u001b[39m# which might be useful to other objects who happen to use\u001b[39;00m\n\u001b[1;32m   1016\u001b[0m \u001b[39m# this method\u001b[39;00m\n",
      "File \u001b[0;32m~/.pyenv/versions/3.11.6/lib/python3.11/site-packages/rpy2/robjects/environments.py:68\u001b[0m, in \u001b[0;36mEnvironment.find\u001b[0;34m(self, item, wantfun)\u001b[0m\n\u001b[1;32m     55\u001b[0m \u001b[39m\u001b[39m\u001b[39m\"\"\"Find an item, starting with this R environment.\u001b[39;00m\n\u001b[1;32m     56\u001b[0m \n\u001b[1;32m     57\u001b[0m \u001b[39mRaises a `KeyError` if the key cannot be found.\u001b[39;00m\n\u001b[0;32m   (...)\u001b[0m\n\u001b[1;32m     65\u001b[0m \u001b[39m:rtype: object (as returned by :func:`conversion.converter.rpy2py`)\u001b[39;00m\n\u001b[1;32m     66\u001b[0m \u001b[39m\"\"\"\u001b[39;00m\n\u001b[1;32m     67\u001b[0m res \u001b[39m=\u001b[39m \u001b[39msuper\u001b[39m(Environment, \u001b[39mself\u001b[39m)\u001b[39m.\u001b[39mfind(item, wantfun\u001b[39m=\u001b[39mwantfun)\n\u001b[0;32m---> 68\u001b[0m res \u001b[39m=\u001b[39m conversion\u001b[39m.\u001b[39;49mget_conversion()\u001b[39m.\u001b[39;49mrpy2py(res)\n\u001b[1;32m     69\u001b[0m \u001b[39m# TODO: There is a design issue here. The attribute __rname__ is\u001b[39;00m\n\u001b[1;32m     70\u001b[0m \u001b[39m# intended to store the symbol name of the R object but this is\u001b[39;00m\n\u001b[1;32m     71\u001b[0m \u001b[39m# meaningless for non-rpy2 objects.\u001b[39;00m\n\u001b[1;32m     72\u001b[0m \u001b[39mtry\u001b[39;00m:\n",
      "File \u001b[0;32m~/.pyenv/versions/3.11.6/lib/python3.11/functools.py:909\u001b[0m, in \u001b[0;36msingledispatch.<locals>.wrapper\u001b[0;34m(*args, **kw)\u001b[0m\n\u001b[1;32m    905\u001b[0m \u001b[39mif\u001b[39;00m \u001b[39mnot\u001b[39;00m args:\n\u001b[1;32m    906\u001b[0m     \u001b[39mraise\u001b[39;00m \u001b[39mTypeError\u001b[39;00m(\u001b[39mf\u001b[39m\u001b[39m'\u001b[39m\u001b[39m{\u001b[39;00mfuncname\u001b[39m}\u001b[39;00m\u001b[39m requires at least \u001b[39m\u001b[39m'\u001b[39m\n\u001b[1;32m    907\u001b[0m                     \u001b[39m'\u001b[39m\u001b[39m1 positional argument\u001b[39m\u001b[39m'\u001b[39m)\n\u001b[0;32m--> 909\u001b[0m \u001b[39mreturn\u001b[39;00m dispatch(args[\u001b[39m0\u001b[39;49m]\u001b[39m.\u001b[39;49m\u001b[39m__class__\u001b[39;49m)(\u001b[39m*\u001b[39;49margs, \u001b[39m*\u001b[39;49m\u001b[39m*\u001b[39;49mkw)\n",
      "File \u001b[0;32m~/.pyenv/versions/3.11.6/lib/python3.11/site-packages/rpy2/robjects/__init__.py:253\u001b[0m, in \u001b[0;36m_rpy2py_listsexp\u001b[0;34m(obj)\u001b[0m\n\u001b[1;32m    250\u001b[0m clsmap \u001b[39m=\u001b[39m (conversion\u001b[39m.\u001b[39mconverter_ctx\u001b[39m.\u001b[39mget()\n\u001b[1;32m    251\u001b[0m           \u001b[39m.\u001b[39mrpy2py_nc_name[rinterface\u001b[39m.\u001b[39mListSexpVector])\n\u001b[1;32m    252\u001b[0m \u001b[39mcls\u001b[39m \u001b[39m=\u001b[39m clsmap\u001b[39m.\u001b[39mfind(obj\u001b[39m.\u001b[39mrclass)\n\u001b[0;32m--> 253\u001b[0m \u001b[39mreturn\u001b[39;00m \u001b[39mcls\u001b[39;49m(obj)\n",
      "File \u001b[0;32m~/.pyenv/versions/3.11.6/lib/python3.11/site-packages/rpy2/robjects/pandas2ri.py:361\u001b[0m, in \u001b[0;36m<lambda>\u001b[0;34m(obj)\u001b[0m\n\u001b[1;32m    345\u001b[0m     res \u001b[39m=\u001b[39m pandas\u001b[39m.\u001b[39mCategorical\u001b[39m.\u001b[39mfrom_codes(\n\u001b[1;32m    346\u001b[0m         codes,\n\u001b[1;32m    347\u001b[0m         categories\u001b[39m=\u001b[39m\u001b[39mlist\u001b[39m(obj\u001b[39m.\u001b[39mdo_slot(\u001b[39m'\u001b[39m\u001b[39mlevels\u001b[39m\u001b[39m'\u001b[39m)),\n\u001b[1;32m    348\u001b[0m         ordered\u001b[39m=\u001b[39m\u001b[39m'\u001b[39m\u001b[39mordered\u001b[39m\u001b[39m'\u001b[39m \u001b[39min\u001b[39;00m obj\u001b[39m.\u001b[39mrclass\n\u001b[1;32m    349\u001b[0m     )\n\u001b[1;32m    350\u001b[0m     \u001b[39mreturn\u001b[39;00m res\n\u001b[1;32m    353\u001b[0m converter\u001b[39m.\u001b[39m_rpy2py_nc_map\u001b[39m.\u001b[39mupdate(\n\u001b[1;32m    354\u001b[0m     {\n\u001b[1;32m    355\u001b[0m         rinterface\u001b[39m.\u001b[39mIntSexpVector: conversion\u001b[39m.\u001b[39mNameClassMap(\n\u001b[1;32m    356\u001b[0m             numpy2ri\u001b[39m.\u001b[39mrpy2py,\n\u001b[1;32m    357\u001b[0m             {\u001b[39m'\u001b[39m\u001b[39mfactor\u001b[39m\u001b[39m'\u001b[39m: _to_pandas_factor}\n\u001b[1;32m    358\u001b[0m         ),\n\u001b[1;32m    359\u001b[0m         rinterface\u001b[39m.\u001b[39mListSexpVector: conversion\u001b[39m.\u001b[39mNameClassMap(\n\u001b[1;32m    360\u001b[0m             numpy2ri\u001b[39m.\u001b[39mrpy2py_list,\n\u001b[0;32m--> 361\u001b[0m             {\u001b[39m'\u001b[39m\u001b[39mdata.frame\u001b[39m\u001b[39m'\u001b[39m: \u001b[39mlambda\u001b[39;00m obj: rpy2py(DataFrame(obj))}\n\u001b[1;32m    362\u001b[0m         )\n\u001b[1;32m    363\u001b[0m     }\n\u001b[1;32m    364\u001b[0m )\n\u001b[1;32m    367\u001b[0m \u001b[39mdef\u001b[39;00m \u001b[39mactivate\u001b[39m():\n\u001b[1;32m    368\u001b[0m     warnings\u001b[39m.\u001b[39mwarn(\u001b[39m'\u001b[39m\u001b[39mThe global conversion available with activate() \u001b[39m\u001b[39m'\u001b[39m\n\u001b[1;32m    369\u001b[0m                   \u001b[39m'\u001b[39m\u001b[39mis deprecated and will be removed in the next \u001b[39m\u001b[39m'\u001b[39m\n\u001b[1;32m    370\u001b[0m                   \u001b[39m'\u001b[39m\u001b[39mmajor release. Use a local converter.\u001b[39m\u001b[39m'\u001b[39m,\n\u001b[1;32m    371\u001b[0m                   category\u001b[39m=\u001b[39m\u001b[39mDeprecationWarning\u001b[39;00m)\n",
      "File \u001b[0;32m~/.pyenv/versions/3.11.6/lib/python3.11/functools.py:909\u001b[0m, in \u001b[0;36msingledispatch.<locals>.wrapper\u001b[0;34m(*args, **kw)\u001b[0m\n\u001b[1;32m    905\u001b[0m \u001b[39mif\u001b[39;00m \u001b[39mnot\u001b[39;00m args:\n\u001b[1;32m    906\u001b[0m     \u001b[39mraise\u001b[39;00m \u001b[39mTypeError\u001b[39;00m(\u001b[39mf\u001b[39m\u001b[39m'\u001b[39m\u001b[39m{\u001b[39;00mfuncname\u001b[39m}\u001b[39;00m\u001b[39m requires at least \u001b[39m\u001b[39m'\u001b[39m\n\u001b[1;32m    907\u001b[0m                     \u001b[39m'\u001b[39m\u001b[39m1 positional argument\u001b[39m\u001b[39m'\u001b[39m)\n\u001b[0;32m--> 909\u001b[0m \u001b[39mreturn\u001b[39;00m dispatch(args[\u001b[39m0\u001b[39;49m]\u001b[39m.\u001b[39;49m\u001b[39m__class__\u001b[39;49m)(\u001b[39m*\u001b[39;49margs, \u001b[39m*\u001b[39;49m\u001b[39m*\u001b[39;49mkw)\n",
      "File \u001b[0;32m~/.pyenv/versions/3.11.6/lib/python3.11/site-packages/rpy2/robjects/pandas2ri.py:332\u001b[0m, in \u001b[0;36mrpy2py_dataframe\u001b[0;34m(obj)\u001b[0m\n\u001b[1;32m    330\u001b[0m rpy2py \u001b[39m=\u001b[39m conversion\u001b[39m.\u001b[39mget_conversion()\u001b[39m.\u001b[39mrpy2py\n\u001b[1;32m    331\u001b[0m colnames_lst \u001b[39m=\u001b[39m []\n\u001b[0;32m--> 332\u001b[0m od \u001b[39m=\u001b[39m OrderedDict(\n\u001b[1;32m    333\u001b[0m     (i, rpy2py(col) \u001b[39mif\u001b[39;49;00m \u001b[39misinstance\u001b[39;49m(col, rinterface\u001b[39m.\u001b[39;49mSexpVector) \u001b[39melse\u001b[39;49;00m col)\n\u001b[1;32m    334\u001b[0m     \u001b[39mfor\u001b[39;49;00m i, col \u001b[39min\u001b[39;49;00m \u001b[39menumerate\u001b[39;49m(_flatten_dataframe(obj, colnames_lst))\n\u001b[1;32m    335\u001b[0m )\n\u001b[1;32m    337\u001b[0m res \u001b[39m=\u001b[39m pandas\u001b[39m.\u001b[39mDataFrame\u001b[39m.\u001b[39mfrom_dict(od)\n\u001b[1;32m    338\u001b[0m res\u001b[39m.\u001b[39mcolumns \u001b[39m=\u001b[39m \u001b[39mtuple\u001b[39m(\u001b[39m'\u001b[39m\u001b[39m.\u001b[39m\u001b[39m'\u001b[39m\u001b[39m.\u001b[39mjoin(_) \u001b[39mif\u001b[39;00m \u001b[39misinstance\u001b[39m(_, \u001b[39mlist\u001b[39m) \u001b[39melse\u001b[39;00m _ \u001b[39mfor\u001b[39;00m _ \u001b[39min\u001b[39;00m colnames_lst)\n",
      "File \u001b[0;32m~/.pyenv/versions/3.11.6/lib/python3.11/site-packages/rpy2/robjects/pandas2ri.py:332\u001b[0m, in \u001b[0;36m<genexpr>\u001b[0;34m(.0)\u001b[0m\n\u001b[1;32m    330\u001b[0m rpy2py \u001b[39m=\u001b[39m conversion\u001b[39m.\u001b[39mget_conversion()\u001b[39m.\u001b[39mrpy2py\n\u001b[1;32m    331\u001b[0m colnames_lst \u001b[39m=\u001b[39m []\n\u001b[0;32m--> 332\u001b[0m od \u001b[39m=\u001b[39m OrderedDict(\n\u001b[1;32m    333\u001b[0m     (i, rpy2py(col) \u001b[39mif\u001b[39;49;00m \u001b[39misinstance\u001b[39;49m(col, rinterface\u001b[39m.\u001b[39;49mSexpVector) \u001b[39melse\u001b[39;49;00m col)\n\u001b[1;32m    334\u001b[0m     \u001b[39mfor\u001b[39;49;00m i, col \u001b[39min\u001b[39;49;00m \u001b[39menumerate\u001b[39;49m(_flatten_dataframe(obj, colnames_lst))\n\u001b[1;32m    335\u001b[0m )\n\u001b[1;32m    337\u001b[0m res \u001b[39m=\u001b[39m pandas\u001b[39m.\u001b[39mDataFrame\u001b[39m.\u001b[39mfrom_dict(od)\n\u001b[1;32m    338\u001b[0m res\u001b[39m.\u001b[39mcolumns \u001b[39m=\u001b[39m \u001b[39mtuple\u001b[39m(\u001b[39m'\u001b[39m\u001b[39m.\u001b[39m\u001b[39m'\u001b[39m\u001b[39m.\u001b[39mjoin(_) \u001b[39mif\u001b[39;00m \u001b[39misinstance\u001b[39m(_, \u001b[39mlist\u001b[39m) \u001b[39melse\u001b[39;00m _ \u001b[39mfor\u001b[39;00m _ \u001b[39min\u001b[39;00m colnames_lst)\n",
      "File \u001b[0;32m~/.pyenv/versions/3.11.6/lib/python3.11/site-packages/rpy2/robjects/pandas2ri.py:319\u001b[0m, in \u001b[0;36m_flatten_dataframe\u001b[0;34m(obj, colnames_lst)\u001b[0m\n\u001b[1;32m    317\u001b[0m col \u001b[39m=\u001b[39m obj[i]\n\u001b[1;32m    318\u001b[0m \u001b[39mif\u001b[39;00m \u001b[39misinstance\u001b[39m(col, ListSexpVector):\n\u001b[0;32m--> 319\u001b[0m     _ \u001b[39m=\u001b[39m _records_to_columns(col)\n\u001b[1;32m    320\u001b[0m     colnames_lst\u001b[39m.\u001b[39mextend((n, subn) \u001b[39mfor\u001b[39;00m subn \u001b[39min\u001b[39;00m _\u001b[39m.\u001b[39mkeys())\n\u001b[1;32m    321\u001b[0m     \u001b[39mfor\u001b[39;00m subcol \u001b[39min\u001b[39;00m _\u001b[39m.\u001b[39mvalues():\n",
      "File \u001b[0;32m~/.pyenv/versions/3.11.6/lib/python3.11/site-packages/rpy2/robjects/pandas2ri.py:274\u001b[0m, in \u001b[0;36m_records_to_columns\u001b[0;34m(obj)\u001b[0m\n\u001b[1;32m    272\u001b[0m \u001b[39mfor\u001b[39;00m i, record \u001b[39min\u001b[39;00m \u001b[39menumerate\u001b[39m(obj_ri):\n\u001b[1;32m    273\u001b[0m     checknames \u001b[39m=\u001b[39m \u001b[39mset\u001b[39m()\n\u001b[0;32m--> 274\u001b[0m     \u001b[39mfor\u001b[39;49;00m name \u001b[39min\u001b[39;49;00m record\u001b[39m.\u001b[39;49mnames:\n\u001b[1;32m    275\u001b[0m         \u001b[39mif\u001b[39;49;00m name \u001b[39min\u001b[39;49;00m checknames:\n\u001b[1;32m    276\u001b[0m             \u001b[39mraise\u001b[39;49;00m \u001b[39mValueError\u001b[39;49;00m(\n\u001b[1;32m    277\u001b[0m                 \u001b[39mf\u001b[39;49m\u001b[39m'\u001b[39;49m\u001b[39mThe record \u001b[39;49m\u001b[39m{\u001b[39;49;00mi\u001b[39m}\u001b[39;49;00m\u001b[39m has \u001b[39;49m\u001b[39m\"\u001b[39;49m\u001b[39m{\u001b[39;49;00mname\u001b[39m}\u001b[39;49;00m\u001b[39m\"\u001b[39;49m\u001b[39m duplicated.\u001b[39;49m\u001b[39m'\u001b[39;49m\n\u001b[1;32m    278\u001b[0m             )\n",
      "\u001b[0;31mTypeError\u001b[0m: 'NULLType' object is not iterable"
     ]
    }
   ],
   "source": [
    "%%R -o merged_data_without_geoms\n",
    "\n",
    "library(sf)\n",
    "merged_data_without_geoms <- merged_data %>% \n",
    "    st_drop_geometry()\n"
   ]
  },
  {
   "cell_type": "code",
   "execution_count": null,
   "metadata": {},
   "outputs": [],
   "source": []
  }
 ],
 "metadata": {
  "kernelspec": {
   "display_name": "Python 3 (ipykernel)",
   "language": "python",
   "name": "python3"
  },
  "language_info": {
   "codemirror_mode": {
    "name": "ipython",
    "version": 3
   },
   "file_extension": ".py",
   "mimetype": "text/x-python",
   "name": "python",
   "nbconvert_exporter": "python",
   "pygments_lexer": "ipython3",
   "version": "3.11.6"
  }
 },
 "nbformat": 4,
 "nbformat_minor": 4
}
