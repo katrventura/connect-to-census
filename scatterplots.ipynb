{
 "cells": [
  {
   "attachments": {},
   "cell_type": "markdown",
   "metadata": {},
   "source": [
    "# 2-D Exploratory Data Analysis\n",
    "\n",
    "In this notebook we will pick ONE variable you're interested in understanding from your non-census data and plot it against various census variables in scatterplots or dotplots."
   ]
  },
  {
   "attachments": {},
   "cell_type": "markdown",
   "metadata": {},
   "source": [
    "### Standard Python and R imports"
   ]
  },
  {
   "cell_type": "code",
   "execution_count": 1,
   "metadata": {},
   "outputs": [
    {
     "name": "stderr",
     "output_type": "stream",
     "text": [
      "During startup - Warning messages:\n",
      "1: Setting LC_COLLATE failed, using \"C\" \n",
      "2: Setting LC_TIME failed, using \"C\" \n",
      "3: Setting LC_MESSAGES failed, using \"C\" \n",
      "4: Setting LC_MONETARY failed, using \"C\" \n"
     ]
    }
   ],
   "source": [
    "%load_ext rpy2.ipython\n",
    "%load_ext autoreload\n",
    "%autoreload 2\n",
    "\n",
    "%matplotlib inline  \n",
    "from matplotlib import rcParams\n",
    "rcParams['figure.figsize'] = (16, 100)\n",
    "\n",
    "import warnings\n",
    "from rpy2.rinterface import RRuntimeWarning\n",
    "warnings.filterwarnings(\"ignore\") # Ignore all warnings\n",
    "# warnings.filterwarnings(\"ignore\", category=RRuntimeWarning) # Show some warnings\n",
    "\n",
    "import pandas as pd\n",
    "import numpy as np\n",
    "import matplotlib.pyplot as plt\n",
    "from IPython.display import display, HTML"
   ]
  },
  {
   "cell_type": "code",
   "execution_count": 2,
   "metadata": {},
   "outputs": [
    {
     "data": {
      "application/javascript": "// Disable auto-scrolling\nIPython.OutputArea.prototype._should_scroll = function(lines) {\n    return false;\n}\n",
      "text/plain": [
       "<IPython.core.display.Javascript object>"
      ]
     },
     "metadata": {},
     "output_type": "display_data"
    }
   ],
   "source": [
    "%%javascript\n",
    "// Disable auto-scrolling\n",
    "IPython.OutputArea.prototype._should_scroll = function(lines) {\n",
    "    return false;\n",
    "}"
   ]
  },
  {
   "cell_type": "code",
   "execution_count": 3,
   "metadata": {},
   "outputs": [
    {
     "name": "stdout",
     "output_type": "stream",
     "text": [
      "── Attaching core tidyverse packages ──────────────────────── tidyverse 2.0.0 ──\n",
      "✔ dplyr     1.1.4     ✔ readr     2.1.5\n",
      "✔ forcats   1.0.0     ✔ stringr   1.5.1\n",
      "✔ ggplot2   3.4.4     ✔ tibble    3.2.1\n",
      "✔ lubridate 1.9.3     ✔ tidyr     1.3.0\n",
      "✔ purrr     1.0.2     \n",
      "── Conflicts ────────────────────────────────────────── tidyverse_conflicts() ──\n",
      "✖ dplyr::filter() masks stats::filter()\n",
      "✖ dplyr::lag()    masks stats::lag()\n",
      "ℹ Use the conflicted package (<http://conflicted.r-lib.org/>) to force all conflicts to become errors\n"
     ]
    },
    {
     "data": {
      "text/plain": [
       "Loading required package: tidyverse\n"
      ]
     },
     "metadata": {},
     "output_type": "display_data"
    }
   ],
   "source": [
    "%%R\n",
    "\n",
    "# My commonly used R imports\n",
    "\n",
    "require('tidyverse')"
   ]
  },
  {
   "attachments": {},
   "cell_type": "markdown",
   "metadata": {},
   "source": [
    "## Load the data"
   ]
  },
  {
   "cell_type": "code",
   "execution_count": 4,
   "metadata": {},
   "outputs": [
    {
     "name": "stdout",
     "output_type": "stream",
     "text": [
      "# A tibble: 48 × 43\n",
      "   `GHGRP ID` `Landfill ID` `Landfill Name`       State `Physical Address` City \n",
      "        <dbl>         <dbl> <chr>                 <chr> <chr>              <chr>\n",
      " 1    1007291           734 Alpha Ridge SLF       MD    2350 Marriottsvil… Marr…\n",
      " 2         NA           735 Annapolis SLF         MD    Defense Highway    Anna…\n",
      " 3         NA           736 Appeal SLF            MD    <NA>               Lusby\n",
      " 4    1000331         10120 Beulah Municipal Lan… MD    6815 East New Mar… Hurl…\n",
      " 5         NA           740 Bowley's Lane LF      MD    Bowley's Lane      Balt…\n",
      " 6    1002655           741 Brown Station Road S… MD    3500 Brown Statio… Uppe…\n",
      " 7    1002655           741 Brown Station Road S… MD    3500 Brown Statio… Uppe…\n",
      " 8    1002655           741 Brown Station Road S… MD    3500 Brown Statio… Uppe…\n",
      " 9    1004812           742 Cecil County Central… MD    758 East Old Phil… Elkt…\n",
      "10    1005295           738 Central SLF           MD    7091 Central Site… Newa…\n",
      "# ℹ 38 more rows\n",
      "# ℹ 37 more variables: County <chr>, `Zip Code` <dbl>, lat <dbl>, long <dbl>,\n",
      "#   `Ownership Type` <chr>, `Landfill Owner Organization(s)` <chr>,\n",
      "#   `Year Landfill Opened` <dbl>, `Landfill Closure Year` <dbl>,\n",
      "#   `Current Landfill Status` <chr>, `Waste in Place (tons)` <dbl>,\n",
      "#   `Waste in Place Year` <dbl>, `LFG Collection System In Place?` <chr>,\n",
      "#   `LFG Collected (mmscfd)` <dbl>, `LFG Flared (mmscfd)` <dbl>, …\n",
      "# ℹ Use `print(n = ...)` to see more rows\n"
     ]
    }
   ],
   "source": [
    "%%R\n",
    " \n",
    "# Import data with R\n",
    "df <- read_csv('baltimore-lmop-with-geocodes-and-census.csv', show_col_types = FALSE)\n",
    "df"
   ]
  },
  {
   "cell_type": "code",
   "execution_count": 5,
   "metadata": {},
   "outputs": [
    {
     "data": {
      "text/html": [
       "<div>\n",
       "<style scoped>\n",
       "    .dataframe tbody tr th:only-of-type {\n",
       "        vertical-align: middle;\n",
       "    }\n",
       "\n",
       "    .dataframe tbody tr th {\n",
       "        vertical-align: top;\n",
       "    }\n",
       "\n",
       "    .dataframe thead th {\n",
       "        text-align: right;\n",
       "    }\n",
       "</style>\n",
       "<table border=\"1\" class=\"dataframe\">\n",
       "  <thead>\n",
       "    <tr style=\"text-align: right;\">\n",
       "      <th></th>\n",
       "      <th>GHGRP ID</th>\n",
       "      <th>Landfill ID</th>\n",
       "      <th>Landfill Name</th>\n",
       "      <th>State</th>\n",
       "      <th>Physical Address</th>\n",
       "      <th>City</th>\n",
       "      <th>County</th>\n",
       "      <th>Zip Code</th>\n",
       "      <th>lat</th>\n",
       "      <th>long</th>\n",
       "      <th>...</th>\n",
       "      <th>GEOID</th>\n",
       "      <th>STATE</th>\n",
       "      <th>COUNTY</th>\n",
       "      <th>TRACT</th>\n",
       "      <th>BLOCK</th>\n",
       "      <th>NAME</th>\n",
       "      <th>variable</th>\n",
       "      <th>estimate</th>\n",
       "      <th>moe</th>\n",
       "      <th>geometry</th>\n",
       "    </tr>\n",
       "  </thead>\n",
       "  <tbody>\n",
       "    <tr>\n",
       "      <th>0</th>\n",
       "      <td>1007291.0</td>\n",
       "      <td>734</td>\n",
       "      <td>Alpha Ridge SLF</td>\n",
       "      <td>MD</td>\n",
       "      <td>2350 Marriottsville Road</td>\n",
       "      <td>Marriottsville</td>\n",
       "      <td>Howard</td>\n",
       "      <td>21104.0</td>\n",
       "      <td>39.305776</td>\n",
       "      <td>-76.898803</td>\n",
       "      <td>...</td>\n",
       "      <td>240276030013008</td>\n",
       "      <td>24</td>\n",
       "      <td>27</td>\n",
       "      <td>603001</td>\n",
       "      <td>3008</td>\n",
       "      <td>NaN</td>\n",
       "      <td>NaN</td>\n",
       "      <td>NaN</td>\n",
       "      <td>NaN</td>\n",
       "      <td>NaN</td>\n",
       "    </tr>\n",
       "    <tr>\n",
       "      <th>1</th>\n",
       "      <td>NaN</td>\n",
       "      <td>735</td>\n",
       "      <td>Annapolis SLF</td>\n",
       "      <td>MD</td>\n",
       "      <td>Defense Highway</td>\n",
       "      <td>Annapolis</td>\n",
       "      <td>Anne Arundel</td>\n",
       "      <td>21401.0</td>\n",
       "      <td>38.992000</td>\n",
       "      <td>-76.573000</td>\n",
       "      <td>...</td>\n",
       "      <td>240037516002006</td>\n",
       "      <td>24</td>\n",
       "      <td>3</td>\n",
       "      <td>751600</td>\n",
       "      <td>2006</td>\n",
       "      <td>NaN</td>\n",
       "      <td>NaN</td>\n",
       "      <td>NaN</td>\n",
       "      <td>NaN</td>\n",
       "      <td>NaN</td>\n",
       "    </tr>\n",
       "    <tr>\n",
       "      <th>2</th>\n",
       "      <td>NaN</td>\n",
       "      <td>736</td>\n",
       "      <td>Appeal SLF</td>\n",
       "      <td>MD</td>\n",
       "      <td>NaN</td>\n",
       "      <td>Lusby</td>\n",
       "      <td>Calvert</td>\n",
       "      <td>20657.0</td>\n",
       "      <td>38.381112</td>\n",
       "      <td>-76.438334</td>\n",
       "      <td>...</td>\n",
       "      <td>240098610033000</td>\n",
       "      <td>24</td>\n",
       "      <td>9</td>\n",
       "      <td>861003</td>\n",
       "      <td>3000</td>\n",
       "      <td>NaN</td>\n",
       "      <td>NaN</td>\n",
       "      <td>NaN</td>\n",
       "      <td>NaN</td>\n",
       "      <td>NaN</td>\n",
       "    </tr>\n",
       "    <tr>\n",
       "      <th>3</th>\n",
       "      <td>1000331.0</td>\n",
       "      <td>10120</td>\n",
       "      <td>Beulah Municipal Landfill</td>\n",
       "      <td>MD</td>\n",
       "      <td>6815 East New Market Ellwood Road</td>\n",
       "      <td>Hurlock</td>\n",
       "      <td>Dorchester</td>\n",
       "      <td>21643.0</td>\n",
       "      <td>38.673500</td>\n",
       "      <td>-75.899400</td>\n",
       "      <td>...</td>\n",
       "      <td>240199702002028</td>\n",
       "      <td>24</td>\n",
       "      <td>19</td>\n",
       "      <td>970200</td>\n",
       "      <td>2028</td>\n",
       "      <td>NaN</td>\n",
       "      <td>NaN</td>\n",
       "      <td>NaN</td>\n",
       "      <td>NaN</td>\n",
       "      <td>NaN</td>\n",
       "    </tr>\n",
       "    <tr>\n",
       "      <th>4</th>\n",
       "      <td>NaN</td>\n",
       "      <td>740</td>\n",
       "      <td>Bowley's Lane LF</td>\n",
       "      <td>MD</td>\n",
       "      <td>Bowley's Lane</td>\n",
       "      <td>Baltimore</td>\n",
       "      <td>Baltimore city</td>\n",
       "      <td>21206.0</td>\n",
       "      <td>39.313800</td>\n",
       "      <td>-76.544400</td>\n",
       "      <td>...</td>\n",
       "      <td>245102604022006</td>\n",
       "      <td>24</td>\n",
       "      <td>510</td>\n",
       "      <td>260402</td>\n",
       "      <td>2006</td>\n",
       "      <td>NaN</td>\n",
       "      <td>NaN</td>\n",
       "      <td>NaN</td>\n",
       "      <td>NaN</td>\n",
       "      <td>NaN</td>\n",
       "    </tr>\n",
       "  </tbody>\n",
       "</table>\n",
       "<p>5 rows × 43 columns</p>\n",
       "</div>"
      ],
      "text/plain": [
       "    GHGRP ID  Landfill ID              Landfill Name State  \\\n",
       "0  1007291.0          734            Alpha Ridge SLF    MD   \n",
       "1        NaN          735              Annapolis SLF    MD   \n",
       "2        NaN          736                 Appeal SLF    MD   \n",
       "3  1000331.0        10120  Beulah Municipal Landfill    MD   \n",
       "4        NaN          740           Bowley's Lane LF    MD   \n",
       "\n",
       "                    Physical Address            City          County  \\\n",
       "0           2350 Marriottsville Road  Marriottsville          Howard   \n",
       "1                    Defense Highway       Annapolis    Anne Arundel   \n",
       "2                                NaN           Lusby         Calvert   \n",
       "3  6815 East New Market Ellwood Road         Hurlock      Dorchester   \n",
       "4                      Bowley's Lane       Baltimore  Baltimore city   \n",
       "\n",
       "   Zip Code        lat       long  ...            GEOID STATE  COUNTY   TRACT  \\\n",
       "0   21104.0  39.305776 -76.898803  ...  240276030013008    24      27  603001   \n",
       "1   21401.0  38.992000 -76.573000  ...  240037516002006    24       3  751600   \n",
       "2   20657.0  38.381112 -76.438334  ...  240098610033000    24       9  861003   \n",
       "3   21643.0  38.673500 -75.899400  ...  240199702002028    24      19  970200   \n",
       "4   21206.0  39.313800 -76.544400  ...  245102604022006    24     510  260402   \n",
       "\n",
       "  BLOCK NAME  variable estimate  moe  geometry  \n",
       "0  3008  NaN       NaN      NaN  NaN       NaN  \n",
       "1  2006  NaN       NaN      NaN  NaN       NaN  \n",
       "2  3000  NaN       NaN      NaN  NaN       NaN  \n",
       "3  2028  NaN       NaN      NaN  NaN       NaN  \n",
       "4  2006  NaN       NaN      NaN  NaN       NaN  \n",
       "\n",
       "[5 rows x 43 columns]"
      ]
     },
     "execution_count": 5,
     "metadata": {},
     "output_type": "execute_result"
    }
   ],
   "source": [
    "# Import data in python\n",
    "df_python = pd.read_csv('baltimore-lmop-with-geocodes-and-census.csv')\n",
    "df_python.head()"
   ]
  },
  {
   "attachments": {},
   "cell_type": "markdown",
   "metadata": {},
   "source": [
    "# Exploratory data analysis\n",
    "\n"
   ]
  },
  {
   "attachments": {},
   "cell_type": "markdown",
   "metadata": {},
   "source": [
    "## 2-D visualizations (aka scatter plots)\n",
    "\n",
    "It seems simple. It's not simple. mainly because...\n",
    "\n",
    "**CORRELATION =/= CAUSATION**\n",
    "\n",
    "Comparing variables to one another can be TRICKY!\n",
    "\n",
    "Let's make some 2-D visualizations (aka scatter plots).\n",
    "\n",
    "Be VERY careful how you phrase the headlines. Take time to think through what you want to say.\n",
    "\n",
    "\n"
   ]
  },
  {
   "cell_type": "code",
   "execution_count": null,
   "metadata": {},
   "outputs": [],
   "source": [
    "%%R\n",
    "\n",
    "# code for scatter plot 1\n",
    "# be sure to include a meaningful title and subtitle"
   ]
  },
  {
   "cell_type": "code",
   "execution_count": null,
   "metadata": {},
   "outputs": [],
   "source": [
    "%%R\n",
    "\n",
    "# code for scatter plot 2\n",
    "# be sure to include a meaningful title and subtitle"
   ]
  },
  {
   "cell_type": "code",
   "execution_count": null,
   "metadata": {},
   "outputs": [],
   "source": [
    "%%R\n",
    "\n",
    "# code for scatter plot 3\n",
    "# be sure to include a meaningful title and subtitle"
   ]
  }
 ],
 "metadata": {
  "kernelspec": {
   "display_name": "Python 3",
   "language": "python",
   "name": "python3"
  },
  "language_info": {
   "codemirror_mode": {
    "name": "ipython",
    "version": 3
   },
   "file_extension": ".py",
   "mimetype": "text/x-python",
   "name": "python",
   "nbconvert_exporter": "python",
   "pygments_lexer": "ipython3",
   "version": "3.11.6"
  },
  "vscode": {
   "interpreter": {
    "hash": "34166945ca6cc351f9d38b360afe1a928411c84fd696a9e2d08d61ef3f7e4692"
   }
  }
 },
 "nbformat": 4,
 "nbformat_minor": 2
}
